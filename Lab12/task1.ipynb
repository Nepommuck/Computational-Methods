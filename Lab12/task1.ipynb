{
 "cells": [
  {
   "cell_type": "code",
   "execution_count": 9,
   "metadata": {
    "collapsed": true
   },
   "outputs": [],
   "source": [
    "def estimate_travelled_diastance(velocity_vector, time_vector):\n",
    "    result = 0\n",
    "    for i, v1 in enumerate(velocity_vector[:-1]):\n",
    "        v2 = velocity_vector[i+1]\n",
    "        t1 = time_vector[i]\n",
    "        t2 = time_vector[i+1]\n",
    "\n",
    "        result += (t2 - t1) * (v1 + v2) / 2\n",
    "\n",
    "    return result"
   ]
  },
  {
   "cell_type": "code",
   "execution_count": 12,
   "outputs": [
    {
     "name": "stdout",
     "output_type": "stream",
     "text": [
      "10.0\n"
     ]
    }
   ],
   "source": [
    "t_vector1 = [1, 3, 4, 5]\n",
    "v_vector1 = [5, 12, 13, 9]\n",
    "\n",
    "result = estimate_travelled_diastance(velocity_vector=v_vector1, time_vector=t_vector1)\n",
    "\n",
    "print(result)"
   ],
   "metadata": {
    "collapsed": false
   }
  }
 ],
 "metadata": {
  "kernelspec": {
   "display_name": "Python 3",
   "language": "python",
   "name": "python3"
  },
  "language_info": {
   "codemirror_mode": {
    "name": "ipython",
    "version": 2
   },
   "file_extension": ".py",
   "mimetype": "text/x-python",
   "name": "python",
   "nbconvert_exporter": "python",
   "pygments_lexer": "ipython2",
   "version": "2.7.6"
  }
 },
 "nbformat": 4,
 "nbformat_minor": 0
}
