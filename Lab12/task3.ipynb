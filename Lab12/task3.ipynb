{
 "cells": [
  {
   "cell_type": "code",
   "execution_count": 25,
   "metadata": {
    "collapsed": false
   },
   "outputs": [],
   "source": [
    "import scipy\n",
    "from math import sqrt"
   ]
  },
  {
   "cell_type": "code",
   "execution_count": 26,
   "metadata": {
    "collapsed": false
   },
   "outputs": [],
   "source": [
    "f4 = lambda x, y: 1 / (sqrt(x + y)) / (1 + x + y)\n",
    "f5 = lambda x, y: x**2 + y**2"
   ]
  },
  {
   "cell_type": "code",
   "execution_count": 27,
   "metadata": {
    "collapsed": false
   },
   "outputs": [],
   "source": [
    "def integrate2(function, x_range, y_range, delta):\n",
    "    result = 0.0\n",
    "\n",
    "    x = x_range[0] + delta / 2\n",
    "    while x <= x_range[1] + delta:\n",
    "\n",
    "        y = y_range[0] + delta / 2\n",
    "        while y <= y_range[1] + delta:\n",
    "            result += delta**2 * function(x, y)\n",
    "\n",
    "            y += delta\n",
    "        x += delta\n",
    "\n",
    "    return result"
   ]
  },
  {
   "cell_type": "code",
   "execution_count": 28,
   "metadata": {
    "collapsed": false
   },
   "outputs": [
    {
     "name": "stdout",
     "output_type": "stream",
     "text": [
      "0.08355058101825523\n",
      "0.08327348523087795\n"
     ]
    }
   ],
   "source": [
    "x_rang = [0.5, 1]\n",
    "y_rang = [0.5, 1]\n",
    "\n",
    "result = integrate2(f4, x_rang, y_rang, delta=0.001)\n",
    "[true_value, _] = scipy.integrate.dblquad(\n",
    "    f4, x_rang[0], x_rang[1], y_rang[0], y_rang[1]\n",
    ")\n",
    "\n",
    "print(result)\n",
    "print(true_value)"
   ]
  },
  {
   "cell_type": "markdown",
   "metadata": {
    "collapsed": false
   },
   "source": [
    "### True value\n"
   ]
  },
  {
   "cell_type": "code",
   "execution_count": 29,
   "metadata": {
    "collapsed": false
   },
   "outputs": [
    {
     "name": "stdout",
     "output_type": "stream",
     "text": [
      "680.0\n"
     ]
    }
   ],
   "source": [
    "x_rang = [-3, 3]\n",
    "y_rang = [-5, 5]\n",
    "\n",
    "[true_value, _] = scipy.integrate.dblquad(\n",
    "    f5, x_rang[0], x_rang[1], y_rang[0], y_rang[1]\n",
    ")\n",
    "\n",
    "print(true_value)"
   ]
  },
  {
   "cell_type": "markdown",
   "metadata": {
    "collapsed": false
   },
   "source": [
    "### Own implementation\n",
    "\n",
    "Delta = 0.1\n"
   ]
  },
  {
   "cell_type": "code",
   "execution_count": 30,
   "metadata": {
    "collapsed": false
   },
   "outputs": [
    {
     "name": "stdout",
     "output_type": "stream",
     "text": [
      "714.9840499999997\n"
     ]
    }
   ],
   "source": [
    "result = integrate2(f5, x_rang, y_rang, delta=0.1)\n",
    "print(result)"
   ]
  },
  {
   "cell_type": "markdown",
   "metadata": {
    "collapsed": false
   },
   "source": [
    "Delta = 0.01\n"
   ]
  },
  {
   "cell_type": "code",
   "execution_count": 31,
   "metadata": {
    "collapsed": false
   },
   "outputs": [
    {
     "name": "stdout",
     "output_type": "stream",
     "text": [
      "683.4217440049631\n"
     ]
    }
   ],
   "source": [
    "result = integrate2(f5, x_rang, y_rang, delta=0.01)\n",
    "print(result)"
   ]
  },
  {
   "cell_type": "markdown",
   "metadata": {
    "collapsed": false
   },
   "source": [
    "Delta = 0.001\n"
   ]
  },
  {
   "cell_type": "code",
   "execution_count": 32,
   "metadata": {
    "collapsed": false
   },
   "outputs": [
    {
     "name": "stdout",
     "output_type": "stream",
     "text": [
      "681.7087680003207\n"
     ]
    }
   ],
   "source": [
    "result = integrate2(f5, x_rang, y_rang, delta=0.005)\n",
    "print(result)"
   ]
  }
 ],
 "metadata": {
  "kernelspec": {
   "display_name": "Python 3",
   "language": "python",
   "name": "python3"
  },
  "language_info": {
   "codemirror_mode": {
    "name": "ipython",
    "version": 2
   },
   "file_extension": ".py",
   "mimetype": "text/x-python",
   "name": "python",
   "nbconvert_exporter": "python",
   "pygments_lexer": "ipython2",
   "version": "2.7.6"
  }
 },
 "nbformat": 4,
 "nbformat_minor": 0
}
