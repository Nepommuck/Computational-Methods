{
 "cells": [
  {
   "cell_type": "code",
   "execution_count": null,
   "outputs": [],
   "source": [
    "import math\n",
    "\n",
    "def sgn(x):\n",
    "    return math.copysign(1, x)"
   ],
   "metadata": {
    "collapsed": false,
    "pycharm": {
     "is_executing": true
    }
   }
  },
  {
   "cell_type": "code",
   "execution_count": null,
   "outputs": [],
   "source": [
    "def bisection(function, borders, eps=10**-4, delta=10**-4):\n",
    "    beg, end = borders\n",
    "    if sgn(beg) == sgn(end):\n",
    "        return None\n",
    "\n",
    "    iterations = 0\n",
    "    mid = beg + (end - beg) / 2\n",
    "\n",
    "    while end - beg > delta and abs(function(mid)) > eps:\n",
    "        mid = beg + (end - beg) / 2\n",
    "        if sgn(beg) == sgn(mid):\n",
    "            beg = mid\n",
    "        else:\n",
    "            end = mid\n",
    "        iterations += 1\n",
    "\n",
    "    return beg + (end - beg) / 2, iterations"
   ],
   "metadata": {
    "collapsed": false
   }
  },
  {
   "cell_type": "code",
   "execution_count": null,
   "outputs": [],
   "source": [
    "f1 = lambda x: math.cos(x) * math.cosh(x) - 1\n",
    "b1 = (3/2 * math.pi, 2 * math.pi)"
   ],
   "metadata": {
    "collapsed": false
   }
  },
  {
   "cell_type": "code",
   "execution_count": null,
   "outputs": [],
   "source": [
    "print(\n",
    "    bisection(f1, b1)\n",
    ")"
   ],
   "metadata": {
    "collapsed": false
   }
  }
 ],
 "metadata": {
  "kernelspec": {
   "display_name": "Python 3",
   "language": "python",
   "name": "python3"
  },
  "language_info": {
   "codemirror_mode": {
    "name": "ipython",
    "version": 2
   },
   "file_extension": ".py",
   "mimetype": "text/x-python",
   "name": "python",
   "nbconvert_exporter": "python",
   "pygments_lexer": "ipython2",
   "version": "2.7.6"
  }
 },
 "nbformat": 4,
 "nbformat_minor": 0
}
