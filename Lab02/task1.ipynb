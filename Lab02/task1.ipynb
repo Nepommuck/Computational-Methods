{
 "cells": [
  {
   "cell_type": "markdown",
   "source": [
    "# Zadanie 1\n",
    "## Metoda Gaussa-Jordana"
   ],
   "metadata": {
    "collapsed": false
   }
  },
  {
   "cell_type": "code",
   "execution_count": 2,
   "outputs": [],
   "source": [
    "import numpy as np\n",
    "import time"
   ],
   "metadata": {
    "collapsed": false
   }
  },
  {
   "cell_type": "markdown",
   "source": [
    "#### Naive implementation"
   ],
   "metadata": {
    "collapsed": false
   }
  },
  {
   "cell_type": "code",
   "execution_count": 3,
   "outputs": [],
   "source": [
    "def gauss_jordan_elimination(matrix, vector):\n",
    "    n = matrix.shape[0]\n",
    "\n",
    "    for i in range(n):\n",
    "        pivot = matrix[i, i]\n",
    "        for row in range(i+1, n):\n",
    "            coefficient = matrix[row, i] / pivot\n",
    "            for column in range(i, n):\n",
    "                matrix[row, column] -= coefficient * matrix[i, column]\n",
    "            vector[row] -= coefficient * vector[i]\n",
    "\n",
    "    for row in range(n-1, -1, -1):\n",
    "        for column in range(n-1, row, -1):\n",
    "            vector[row] -= matrix[row, column] * vector[column]\n",
    "        vector[row] = vector[row] / matrix[row, row]\n",
    "    return vector"
   ],
   "metadata": {
    "collapsed": false
   }
  },
  {
   "cell_type": "markdown",
   "source": [
    "#### Partial pivoting"
   ],
   "metadata": {
    "collapsed": false
   }
  },
  {
   "cell_type": "code",
   "execution_count": 4,
   "outputs": [],
   "source": [
    "def partial_pivoting(matrix, vector):\n",
    "    n = matrix.shape[0]\n",
    "    row_index = [i for i in range(n)]\n",
    "\n",
    "    for i in range(n):\n",
    "        # Partial pivoting\n",
    "        p = i\n",
    "        for k in range(i+1, n):\n",
    "            if abs(matrix[row_index[k], i]) > abs(matrix[row_index[p], i]):\n",
    "                p = k\n",
    "        row_index[i], row_index[p] = row_index[p], row_index[i]\n",
    "\n",
    "        pivot = matrix[row_index[i], i]\n",
    "        for row in range(i+1, n):\n",
    "            coefficient = matrix[row_index[row], i] / pivot\n",
    "            for column in range(i, n):\n",
    "                matrix[row_index[row], column] -= coefficient * matrix[row_index[i], column]\n",
    "            vector[row_index[row]] -= coefficient * vector[row_index[i]]\n",
    "\n",
    "    for row in range(n-1, -1, -1):\n",
    "        for column in range(n-1, row, -1):\n",
    "            vector[row_index[row]] -= matrix[row_index[row], column] * vector[row_index[column]]\n",
    "        vector[row_index[row]] = vector[row_index[row]] / matrix[row_index[row], row]\n",
    "    return [vector[i] for i in row_index]"
   ],
   "metadata": {
    "collapsed": false
   }
  },
  {
   "cell_type": "markdown",
   "source": [
    "#### Simple test\n",
    "\n",
    "x + y = 3\n",
    "2x + y = 4\n",
    "x + y + z = 5"
   ],
   "metadata": {
    "collapsed": false
   }
  },
  {
   "cell_type": "code",
   "execution_count": 5,
   "outputs": [
    {
     "name": "stdout",
     "output_type": "stream",
     "text": [
      "x = 1.0\n",
      "y = 2.0\n",
      "z = 2.0\n"
     ]
    }
   ],
   "source": [
    "A = np.matrix([\n",
    "    [1, 1, 0],\n",
    "    [2, 1, 0],\n",
    "    [1, 1, 1]\n",
    "], dtype=np.double)\n",
    "Y = np.array([3,\n",
    "              4,\n",
    "              5], dtype=np.double)\n",
    "\n",
    "# result = gauss_jordan_elimination(A, Y)\n",
    "result = partial_pivoting(A, Y)\n",
    "\n",
    "for i in range(len(result)):\n",
    "    print(f\"{chr(ord('x') + i)} = {result[i]}\")"
   ],
   "metadata": {
    "collapsed": false
   }
  },
  {
   "cell_type": "markdown",
   "source": [
    "## Correctness check\n",
    "####"
   ],
   "metadata": {
    "collapsed": false
   }
  },
  {
   "cell_type": "code",
   "execution_count": 6,
   "outputs": [],
   "source": [
    "def float_eq(float1, float2, eps=10**-5):\n",
    "    return abs(float1 - float2) < eps\n",
    "\n",
    "\n",
    "class Corectness_tester:\n",
    "    def __init__(self, solving_function, number_of_tests, array_size, number_constrains=(-10**5, 10**5), tester_function=np.linalg.solve):\n",
    "        self.solving_function = solving_function\n",
    "        self.tester_function = tester_function\n",
    "        self.tests_no = number_of_tests\n",
    "        self.size = array_size\n",
    "        self.min_val, self.max_val = number_constrains\n",
    "\n",
    "    def __generate_arrays(self):\n",
    "        self.arrays_A = [np.random.uniform(self.min_val, self.max_val, (self.size, self.size)) for _ in range(self.tests_no)]\n",
    "        self.vectors_Y = [np.random.uniform(self.min_val, self.max_val, self.size) for _ in range(self.tests_no)]\n",
    "\n",
    "    def run(self):\n",
    "        self.__generate_arrays()\n",
    "        for (array, vector) in zip(self.arrays_A, self.vectors_Y):\n",
    "            arr_cpy, vector_cpy = array.copy(), vector.copy()\n",
    "            result1 = self.solving_function(array, vector)\n",
    "            result2 = self.tester_function(arr_cpy, vector_cpy)\n",
    "\n",
    "            for i in range(len(result1)):\n",
    "                if not float_eq(result1[i], result2[i]):\n",
    "                    print(f'Results differ at index {i}: {result1[i]} instead of {result2[i]}')\n",
    "                    return False\n",
    "        return True"
   ],
   "metadata": {
    "collapsed": false
   }
  },
  {
   "cell_type": "markdown",
   "source": [
    "#### Tests and results"
   ],
   "metadata": {
    "collapsed": false
   }
  },
  {
   "cell_type": "code",
   "execution_count": 14,
   "outputs": [
    {
     "name": "stdout",
     "output_type": "stream",
     "text": [
      "Function: gauss_jordan_elimination\n",
      "Test 1: PASSED\n",
      "Test 2: PASSED\n",
      "Test 3: PASSED\n",
      "Test 4: PASSED\n",
      "Test 5: PASSED\n",
      "\n",
      "Function: partial_pivoting\n",
      "Test 1: PASSED\n",
      "Test 2: PASSED\n",
      "Test 3: PASSED\n",
      "Test 4: PASSED\n",
      "Test 5: PASSED\n",
      "\n"
     ]
    }
   ],
   "source": [
    "test_spec = [(10, 10), (20, 5), (30, 4), (50, 2), (100, 1)]\n",
    "\n",
    "for function in (gauss_jordan_elimination, partial_pivoting):\n",
    "    print(f'Function: {function.__name__}')\n",
    "    i = 1\n",
    "    for (array_size, number_of_tests) in test_spec:\n",
    "        print(f\"Test {i}: \", end='')\n",
    "        if Corectness_tester(solving_function=function, number_of_tests=number_of_tests, array_size=array_size).run():\n",
    "            print(\"PASSED\")\n",
    "        else:\n",
    "            print(\"FAILED\")\n",
    "            break\n",
    "        i += 1\n",
    "    print(\"\")"
   ],
   "metadata": {
    "collapsed": false
   }
  },
  {
   "cell_type": "markdown",
   "source": [
    "## Efficiency compiration"
   ],
   "metadata": {
    "collapsed": false
   }
  },
  {
   "cell_type": "code",
   "execution_count": 11,
   "outputs": [],
   "source": [
    "class Performance_tester:\n",
    "    def __init__(self, solving_function, number_of_tests, array_size, number_constrains=(-10**5, 10**5)):\n",
    "        self.solving_function = solving_function\n",
    "        self.tests_no = number_of_tests\n",
    "        self.size = array_size\n",
    "        self.min_val, self.max_val = number_constrains\n",
    "\n",
    "    def __generate_arrays(self):\n",
    "        self.arrays_A = [np.random.uniform(self.min_val, self.max_val, (self.size, self.size)) for _ in range(self.tests_no)]\n",
    "        self.vectors_Y = [np.random.uniform(self.min_val, self.max_val, self.size) for _ in range(self.tests_no)]\n",
    "\n",
    "    def __solve(self):\n",
    "        for (a, y) in zip(self.arrays_A, self.vectors_Y):\n",
    "            self.solving_function(a, y)\n",
    "\n",
    "    def run(self):\n",
    "        self.__generate_arrays()\n",
    "        print(f\"Function '{self.solving_function.__name__}', N={self.size}, {number_of_tests} {'tests' if number_of_tests > 1 else 'test'}\")\n",
    "\n",
    "        start = time.time()\n",
    "        self.__solve()\n",
    "        end = time.time()\n",
    "        print(\"Time elapsed: %.2fs\" % (end - start))"
   ],
   "metadata": {
    "collapsed": false
   }
  },
  {
   "cell_type": "markdown",
   "source": [
    "#### Tests and results"
   ],
   "metadata": {
    "collapsed": false
   }
  },
  {
   "cell_type": "code",
   "execution_count": 17,
   "outputs": [
    {
     "name": "stdout",
     "output_type": "stream",
     "text": [
      "Function 'solve', N=100, 5 tests\n",
      "Time elapsed: 0.02s\n",
      "\n",
      "Function 'gauss_jordan_elimination', N=100, 5 tests\n",
      "Time elapsed: 0.80s\n",
      "\n",
      "Function 'partial_pivoting', N=100, 5 tests\n",
      "Time elapsed: 0.85s\n",
      "\n",
      "Function 'solve', N=200, 3 tests\n",
      "Time elapsed: 0.00s\n",
      "\n",
      "Function 'gauss_jordan_elimination', N=200, 3 tests\n",
      "Time elapsed: 3.66s\n",
      "\n",
      "Function 'partial_pivoting', N=200, 3 tests\n",
      "Time elapsed: 3.88s\n",
      "\n",
      "Function 'solve', N=300, 1 test\n",
      "Time elapsed: 0.00s\n",
      "\n",
      "Function 'gauss_jordan_elimination', N=300, 1 test\n",
      "Time elapsed: 4.09s\n",
      "\n",
      "Function 'partial_pivoting', N=300, 1 test\n",
      "Time elapsed: 4.38s\n",
      "\n"
     ]
    }
   ],
   "source": [
    "test_spec = [(100, 5), (200, 3), (300, 1)]\n",
    "# test_spec = [(550, 2), (600, 1), (700, 1), (800, 1)]\n",
    "\n",
    "for (array_size, number_of_tests) in test_spec:\n",
    "    for function in (np.linalg.solve, gauss_jordan_elimination, partial_pivoting):\n",
    "        Performance_tester(solving_function=function, number_of_tests=number_of_tests, array_size=array_size).run()\n",
    "        print('')"
   ],
   "metadata": {
    "collapsed": false
   }
  },
  {
   "cell_type": "markdown",
   "source": [
    "#### Results on my computer:\n",
    "Function 'solve', N=100, 5 tests\n",
    "Time elapsed: 0.02s\n",
    "\n",
    "Function 'gauss_jordan_elimination', N=100, 5 tests\n",
    "Time elapsed: 0.80s\n",
    "\n",
    "Function 'partial_pivoting', N=100, 5 tests\n",
    "Time elapsed: 0.85s\n",
    "\n",
    "Function 'solve', N=200, 3 tests\n",
    "Time elapsed: 0.00s\n",
    "\n",
    "Function 'gauss_jordan_elimination', N=200, 3 tests\n",
    "Time elapsed: 3.66s\n",
    "\n",
    "Function 'partial_pivoting', N=200, 3 tests\n",
    "Time elapsed: 3.88s\n",
    "\n",
    "Function 'solve', N=300, 1 test\n",
    "Time elapsed: 0.00s\n",
    "\n",
    "Function 'gauss_jordan_elimination', N=300, 1 test\n",
    "Time elapsed: 4.09s\n",
    "\n",
    "Function 'partial_pivoting', N=300, 1 test\n",
    "Time elapsed: 4.38s"
   ],
   "metadata": {
    "collapsed": false
   }
  }
 ],
 "metadata": {
  "kernelspec": {
   "display_name": "Python 3",
   "language": "python",
   "name": "python3"
  },
  "language_info": {
   "codemirror_mode": {
    "name": "ipython",
    "version": 2
   },
   "file_extension": ".py",
   "mimetype": "text/x-python",
   "name": "python",
   "nbconvert_exporter": "python",
   "pygments_lexer": "ipython2",
   "version": "2.7.6"
  }
 },
 "nbformat": 4,
 "nbformat_minor": 0
}
