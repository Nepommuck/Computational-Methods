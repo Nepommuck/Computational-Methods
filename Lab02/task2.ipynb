{
 "cells": [
  {
   "cell_type": "markdown",
   "source": [
    "# Zadanie 1\n",
    "## Metoda Gaussa-Jordana"
   ],
   "metadata": {
    "collapsed": false
   }
  },
  {
   "cell_type": "code",
   "execution_count": 2,
   "outputs": [],
   "source": [
    "import numpy as np"
   ],
   "metadata": {
    "collapsed": false
   }
  },
  {
   "cell_type": "code",
   "execution_count": 3,
   "outputs": [],
   "source": [
    "def l_u_decomposition(matrix):\n",
    "    n = matrix.shape[0]\n",
    "\n",
    "    for i in range(n):\n",
    "        pivot = matrix[i, i]\n",
    "        for row in range(i+1, n):\n",
    "            coefficient = matrix[row, i] / pivot\n",
    "            for column in range(i, n):\n",
    "                matrix[row, column] -= coefficient * matrix[i, column]\n",
    "            matrix[row][i] = coefficient\n",
    "    return matrix"
   ],
   "metadata": {
    "collapsed": false
   }
  },
  {
   "cell_type": "code",
   "execution_count": 4,
   "outputs": [],
   "source": [
    "def read_lu_matrices(matrix):\n",
    "    return read_lower(matrix), read_upper(matrix)\n",
    "\n",
    "\n",
    "def read_lower(matrix):\n",
    "    n = matrix.shape[0]\n",
    "    upper = matrix.copy()\n",
    "    for y in range(n):\n",
    "        for x in range(n):\n",
    "            if x > y:\n",
    "                upper[y, x] = 0\n",
    "            elif x == y:\n",
    "                upper[y, x] = 1\n",
    "    return upper\n",
    "\n",
    "\n",
    "def read_upper(matrix):\n",
    "    n = matrix.shape[0]\n",
    "    upper = matrix.copy()\n",
    "    for y in range(n):\n",
    "        for x in range(n):\n",
    "            if not x >= y:\n",
    "                upper[y, x] = 0\n",
    "    return upper"
   ],
   "metadata": {
    "collapsed": false
   }
  },
  {
   "cell_type": "code",
   "execution_count": 59,
   "outputs": [
    {
     "name": "stdout",
     "output_type": "stream",
     "text": [
      "Test [1]:  N = 100\n",
      "||A - LU|| = 0.00010943504934185856\n",
      "\n",
      "Test [2]:  N = 100\n",
      "||A - LU|| = 1.003951540808027e-05\n",
      "\n",
      "Test [3]:  N = 150\n",
      "||A - LU|| = 4.4421177689659224e-05\n",
      "\n",
      "Test [4]:  N = 150\n",
      "||A - LU|| = 7.353344755961468e-05\n",
      "\n",
      "Test [5]:  N = 200\n",
      "||A - LU|| = 8.166310104203668e-05\n",
      "\n",
      "Test [6]:  N = 200\n",
      "||A - LU|| = 0.0003765348811168937\n",
      "\n",
      "Test [7]:  N = 300\n",
      "||A - LU|| = 0.00035278487167108826\n",
      "\n"
     ]
    }
   ],
   "source": [
    "test_spec = [(100, 2), (150, 2), (200, 2), (300, 1)]\n",
    "low = -10**7\n",
    "hight = -low\n",
    "\n",
    "i = 1\n",
    "for size, tests in test_spec:\n",
    "    for _ in range(tests):\n",
    "        print(f\"Test [{i}]:  N = {size}\")\n",
    "        matrix = np.random.uniform(low, hight, size=(size, size))\n",
    "        A = matrix.copy()\n",
    "\n",
    "        l_u_decomposition(matrix)\n",
    "        l, u = read_lu_matrices(matrix)\n",
    "        lu = np.matmul(l, u)\n",
    "\n",
    "        print(\"||A - LU|| =\", np.linalg.norm(\n",
    "            np.add(A, -lu)\n",
    "        ))\n",
    "        print()\n",
    "        i += 1"
   ],
   "metadata": {
    "collapsed": false
   }
  },
  {
   "cell_type": "markdown",
   "source": [
    "#### Results:\n",
    "Test [1]:  N = 100\n",
    "||A - LU|| = 0.00010943504934185856\n",
    "\n",
    "Test [2]:  N = 100\n",
    "||A - LU|| = 1.003951540808027e-05\n",
    "\n",
    "Test [3]:  N = 150\n",
    "||A - LU|| = 4.4421177689659224e-05\n",
    "\n",
    "Test [4]:  N = 150\n",
    "||A - LU|| = 7.353344755961468e-05\n",
    "\n",
    "Test [5]:  N = 200\n",
    "||A - LU|| = 8.166310104203668e-05\n",
    "\n",
    "Test [6]:  N = 200\n",
    "||A - LU|| = 0.0003765348811168937\n",
    "\n",
    "Test [7]:  N = 300\n",
    "||A - LU|| = 0.00035278487167108826\n"
   ],
   "metadata": {
    "collapsed": false
   }
  }
 ],
 "metadata": {
  "kernelspec": {
   "display_name": "Python 3",
   "language": "python",
   "name": "python3"
  },
  "language_info": {
   "codemirror_mode": {
    "name": "ipython",
    "version": 2
   },
   "file_extension": ".py",
   "mimetype": "text/x-python",
   "name": "python",
   "nbconvert_exporter": "python",
   "pygments_lexer": "ipython2",
   "version": "2.7.6"
  }
 },
 "nbformat": 4,
 "nbformat_minor": 0
}
