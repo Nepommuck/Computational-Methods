{
 "cells": [
  {
   "cell_type": "markdown",
   "source": [
    "## Zadanie 1"
   ],
   "metadata": {
    "collapsed": false
   }
  },
  {
   "cell_type": "code",
   "execution_count": 37,
   "outputs": [],
   "source": [
    "import numpy as np\n",
    "import time"
   ],
   "metadata": {
    "collapsed": false
   }
  },
  {
   "cell_type": "markdown",
   "source": [
    "#### Naive implementation"
   ],
   "metadata": {
    "collapsed": false
   }
  },
  {
   "cell_type": "code",
   "execution_count": 38,
   "outputs": [],
   "source": [
    "def gauss_jordan_elimination(matrix, vector):\n",
    "    n = matrix.shape[0]\n",
    "\n",
    "    for i in range(n):\n",
    "        pivot = matrix[i, i]\n",
    "        for row in range(i+1, n):\n",
    "            coefficient = matrix[row, i] / pivot\n",
    "            for column in range(i, n):\n",
    "                matrix[row, column] -= coefficient * matrix[i, column]\n",
    "            vector[row] -= coefficient * vector[i]\n",
    "    return matrix\n",
    "\n",
    "\n",
    "def solve_for_upper_triangle(upper_matrix, vector):\n",
    "    n = upper_matrix.shape[0]\n",
    "\n",
    "    for row in range(n-1, -1, -1):\n",
    "        for column in range(n-1, row, -1):\n",
    "            vector[row] -= upper_matrix[row, column] * vector[column]\n",
    "        vector[row] = vector[row] / upper_matrix[row, row]\n",
    "    return vector\n",
    "\n",
    "\n",
    "def gauss_jordan_solve(matrix, vector):\n",
    "    gauss_jordan_elimination(matrix, vector)\n",
    "    return solve_for_upper_triangle(matrix, vector)"
   ],
   "metadata": {
    "collapsed": false
   }
  },
  {
   "cell_type": "markdown",
   "source": [
    "#### Simple test\n",
    "\n",
    "x + y = 3\n",
    "2x + y = 4\n",
    "x + y + z = 5"
   ],
   "metadata": {
    "collapsed": false
   }
  },
  {
   "cell_type": "code",
   "execution_count": 56,
   "outputs": [
    {
     "name": "stdout",
     "output_type": "stream",
     "text": [
      "x = 1.0\n",
      "y = 2.0\n",
      "z = 2.0\n"
     ]
    }
   ],
   "source": [
    "A = np.matrix([\n",
    "    [1, 1, 0],\n",
    "    [2, 1, 0],\n",
    "    [1, 1, 1]\n",
    "], dtype=np.double)\n",
    "Y = np.array([3,\n",
    "              4,\n",
    "              5], dtype=np.double)\n",
    "\n",
    "gauss_jordan_elimination(A, Y)\n",
    "result = solve_for_upper_triangle(A, Y)\n",
    "\n",
    "for i in range(len(result)):\n",
    "    print(f\"{chr(ord('x') + i)} = {result[i]}\")"
   ],
   "metadata": {
    "collapsed": false
   }
  },
  {
   "cell_type": "markdown",
   "source": [
    "## Efficiency compiration\n",
    "#### Tester class"
   ],
   "metadata": {
    "collapsed": false
   }
  },
  {
   "cell_type": "code",
   "execution_count": 57,
   "outputs": [],
   "source": [
    "class Tester:\n",
    "    def __init__(self, solving_function, number_of_tests, array_size, number_constrains=(-10**5, 10**5)):\n",
    "        self.solving_function = solving_function\n",
    "        self.tests_no = number_of_tests\n",
    "        self.size = array_size\n",
    "        self.min_val, self.max_val = number_constrains\n",
    "\n",
    "    def __generate_arrays(self):\n",
    "        self.arrays_A = [np.random.uniform(self.min_val, self.max_val, (self.size, self.size)) for _ in range(self.tests_no)]\n",
    "        self.vectors_Y = [np.random.uniform(self.min_val, self.max_val, self.size) for _ in range(self.tests_no)]\n",
    "\n",
    "    def __solve(self):\n",
    "        for (a, y) in zip(self.arrays_A, self.vectors_Y):\n",
    "            self.solving_function(a, y)\n",
    "\n",
    "    def run(self):\n",
    "        self.__generate_arrays()\n",
    "        print(f\"Function '{self.solving_function.__name__}', N={self.size}, {number_of_tests} {'tests' if number_of_tests > 1 else 'test'}\")\n",
    "\n",
    "        start = time.time()\n",
    "        self.__solve()\n",
    "        end = time.time()\n",
    "        print(\"Time elapsed: %.2fs\" % (end - start))"
   ],
   "metadata": {
    "collapsed": false
   }
  },
  {
   "cell_type": "code",
   "execution_count": 58,
   "outputs": [],
   "source": [
    "#### Tests run and results"
   ],
   "metadata": {
    "collapsed": false
   }
  },
  {
   "cell_type": "code",
   "execution_count": 59,
   "outputs": [
    {
     "name": "stdout",
     "output_type": "stream",
     "text": [
      "Function 'solve', N=100, 5 tests\n",
      "Time elapsed: 0.02s\n",
      "\n",
      "Function 'gauss_jordan_solve', N=100, 5 tests\n",
      "Time elapsed: 0.91s\n",
      "\n",
      "Function 'solve', N=200, 3 tests\n",
      "Time elapsed: 0.00s\n",
      "\n",
      "Function 'gauss_jordan_solve', N=200, 3 tests\n",
      "Time elapsed: 3.78s\n",
      "\n",
      "Function 'solve', N=300, 1 test\n",
      "Time elapsed: 0.00s\n",
      "\n",
      "Function 'gauss_jordan_solve', N=300, 1 test\n",
      "Time elapsed: 4.15s\n",
      "\n",
      "Function 'solve', N=500, 1 test\n",
      "Time elapsed: 0.00s\n",
      "\n",
      "Function 'gauss_jordan_solve', N=500, 1 test\n",
      "Time elapsed: 19.27s\n",
      "\n"
     ]
    }
   ],
   "source": [
    "test_spec = [(100, 5), (200, 3), (300, 1), (500, 1)]\n",
    "\n",
    "for (array_size, number_of_tests) in test_spec:\n",
    "    for function in [np.linalg.solve, gauss_jordan_solve]:\n",
    "        Tester(solving_function=function, number_of_tests=number_of_tests, array_size=array_size).run()\n",
    "        print('')"
   ],
   "metadata": {
    "collapsed": false
   }
  },
  {
   "cell_type": "code",
   "execution_count": null,
   "outputs": [],
   "source": [],
   "metadata": {
    "collapsed": false
   }
  }
 ],
 "metadata": {
  "kernelspec": {
   "display_name": "Python 3",
   "language": "python",
   "name": "python3"
  },
  "language_info": {
   "codemirror_mode": {
    "name": "ipython",
    "version": 2
   },
   "file_extension": ".py",
   "mimetype": "text/x-python",
   "name": "python",
   "nbconvert_exporter": "python",
   "pygments_lexer": "ipython2",
   "version": "2.7.6"
  }
 },
 "nbformat": 4,
 "nbformat_minor": 0
}
