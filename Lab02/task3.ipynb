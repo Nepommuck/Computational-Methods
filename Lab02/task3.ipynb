{
 "cells": [
  {
   "cell_type": "markdown",
   "metadata": {
    "collapsed": false
   },
   "source": [
    "# Zadanie 3\n",
    "\n",
    "## Analiza obwodu Elektrycznego\n"
   ]
  },
  {
   "cell_type": "code",
   "execution_count": 2,
   "metadata": {
    "collapsed": false
   },
   "outputs": [],
   "source": [
    "import networkx as nx\n",
    "import numpy as np\n",
    "\n",
    "from copy import deepcopy\n",
    "from collections import deque\n",
    "from random import randint, random\n",
    "from pyvis.network import Network"
   ]
  },
  {
   "cell_type": "markdown",
   "metadata": {
    "collapsed": false
   },
   "source": [
    "#### Convertion between different graph representations\n"
   ]
  },
  {
   "cell_type": "code",
   "execution_count": 3,
   "metadata": {
    "collapsed": false
   },
   "outputs": [],
   "source": [
    "def to_neibour_representation(edges):\n",
    "    graph = []\n",
    "    for v1, v2, r in edges:\n",
    "        while len(graph) <= max(v1, v2):\n",
    "            graph.append([])\n",
    "        graph[v1].append((v2, r))\n",
    "        graph[v2].append((v1, r))\n",
    "    return graph"
   ]
  },
  {
   "cell_type": "markdown",
   "metadata": {
    "collapsed": false
   },
   "source": [
    "## Fuctions for finding cycles in a graph\n"
   ]
  },
  {
   "cell_type": "code",
   "execution_count": 4,
   "metadata": {
    "collapsed": false
   },
   "outputs": [],
   "source": [
    "def find_cycle_from_edge(graph, a, b):\n",
    "    n = len(graph)\n",
    "    visited = [False for _ in range(n)]\n",
    "    visited[b] = True\n",
    "    stack = deque()\n",
    "    road = deque([a])\n",
    "    return find_cycle(graph, visited, road, stack, initial=a, vertex=b)\n",
    "\n",
    "\n",
    "def find_cycle_from_vertex(graph, initial):\n",
    "    visited = [False for _ in graph]\n",
    "    stack = deque()\n",
    "    road = deque()\n",
    "    return find_cycle(graph, visited, road, stack, initial, vertex=initial)\n",
    "\n",
    "\n",
    "def find_cycle(graph, visited, road, stack, initial, vertex, debug=False):\n",
    "    if debug:\n",
    "        print(\"START\")\n",
    "    returning = False\n",
    "\n",
    "    while not (vertex == initial and len(road) > 1):\n",
    "\n",
    "        if not returning and vertex != initial:\n",
    "            visited[vertex] = True\n",
    "\n",
    "        if debug:\n",
    "            print(f\"v: {vertex}, returning: {returning}\")\n",
    "            print(f\"stack: {stack}\")\n",
    "            print(f\"road: {road}\")\n",
    "            print(f\"visited: {visited}\")\n",
    "\n",
    "        if returning:\n",
    "            if len(stack) == 0:\n",
    "                return None\n",
    "            next_v = stack[-1]\n",
    "\n",
    "            if debug:\n",
    "                print(\"Trying to get to:\", next_v)\n",
    "\n",
    "            for neib, _ in graph[vertex]:\n",
    "                if neib == next_v:\n",
    "                    returning = False\n",
    "                    break\n",
    "            # Still returning\n",
    "            if returning:\n",
    "                visited[vertex] = False\n",
    "\n",
    "                road.pop()\n",
    "                next_v = road[-1]\n",
    "\n",
    "            else:\n",
    "                stack.pop()\n",
    "\n",
    "        else:\n",
    "            returning = True\n",
    "            road.append(vertex)\n",
    "            for neib, _ in graph[vertex]:\n",
    "                if (not visited[neib]) and (len(road) > 2 or neib != initial):\n",
    "                    returning = False\n",
    "                    stack.append(neib)\n",
    "\n",
    "                    if debug:\n",
    "                        print(f\"Added: {neib}\")\n",
    "            if len(stack) == 0:\n",
    "                return None\n",
    "            next_v = stack.pop()\n",
    "\n",
    "            if returning:\n",
    "                visited[vertex] = False\n",
    "                road.pop()\n",
    "                stack.append(next_v)\n",
    "                next_v = road[-1]\n",
    "\n",
    "        vertex = next_v\n",
    "\n",
    "    if debug:\n",
    "        print(\"DONE\")\n",
    "        print(\"\")\n",
    "    return road"
   ]
  },
  {
   "cell_type": "code",
   "execution_count": 5,
   "metadata": {
    "collapsed": false
   },
   "outputs": [],
   "source": [
    "def new_get_n_cycles(edges_origin, neib_rep_origin, n):\n",
    "    edges = deepcopy(edges_origin)\n",
    "    neib_rep = deepcopy(neib_rep_origin)\n",
    "    cycles = []\n",
    "\n",
    "    for _ in range(n):\n",
    "        edge_ind = -1\n",
    "        while True:\n",
    "            a, b, _ = edges[edge_ind]\n",
    "            cycle = find_cycle_from_edge(neib_rep, a, b)\n",
    "            if cycle is not None:\n",
    "                break\n",
    "            edge_ind -= 1\n",
    "\n",
    "        edges.pop(edge_ind)\n",
    "        for i in range(len(neib_rep[a])):\n",
    "            if neib_rep[a][i][0] == b:\n",
    "                neib_rep[a].pop(i)\n",
    "                break\n",
    "        for i in range(len(neib_rep[b])):\n",
    "            if neib_rep[b][i][0] == a:\n",
    "                neib_rep[b].pop(i)\n",
    "                break\n",
    "        cycles.append(cycle)\n",
    "    return cycles"
   ]
  },
  {
   "cell_type": "code",
   "execution_count": 6,
   "metadata": {
    "collapsed": false
   },
   "outputs": [],
   "source": [
    "def verticle_cycle_into_edges(verticle_cycle, edges):\n",
    "    result = []\n",
    "    for v in range(len(verticle_cycle)):\n",
    "        a, b = verticle_cycle[v], verticle_cycle[(v + 1) % len(verticle_cycle)]\n",
    "        for i in range(len(edges)):\n",
    "            if (edges[i][0], edges[i][1]) == (a, b):\n",
    "                result.append((i, 1))\n",
    "                break\n",
    "            elif (edges[i][0], edges[i][1]) == (b, a):\n",
    "                result.append((i, -1))\n",
    "                break\n",
    "    return result"
   ]
  },
  {
   "cell_type": "markdown",
   "metadata": {
    "collapsed": false
   },
   "source": [
    "## Function that solves the whole electric Circuit\n",
    "\n",
    "For each edge we need to find its intensity, so we have E unknowns.\n",
    "\n",
    "I Kirchoff Law gives us V-1 equasions from circut verticles. The last verticle is leary dependent on the rest.\n",
    "\n",
    "The remaining E-V+1 equasions we need to recieve using II Kirchoff Law. For that finding E-V+1 independent cycles in a graph is required.\n",
    "To guarrantee that all cycles are independent, we \"remove\" first edge of each cycle we found from the graph.\n"
   ]
  },
  {
   "cell_type": "code",
   "execution_count": 7,
   "metadata": {
    "collapsed": false
   },
   "outputs": [],
   "source": [
    "def solve(edges, neib_rep=None):\n",
    "    if neib_rep is None:\n",
    "        neib_rep = to_neibour_representation(edges)\n",
    "    e = len(edges)\n",
    "    v = len(neib_rep)\n",
    "\n",
    "    # We have e unknowns, so we need e equasions\n",
    "    matrix = np.zeros(shape=(e, e))\n",
    "    vector = np.zeros(shape=e)\n",
    "\n",
    "    # V-1 equasions from I Kirchoff Law\n",
    "    for i in range(v - 1):\n",
    "        # print(f'v{i}:')\n",
    "        for k in range(e):\n",
    "            # Flowing into vertex\n",
    "            if edges[k][1] == i:\n",
    "                # print(f'+ I{k}')\n",
    "                matrix[i, k] = 1\n",
    "            # Flowing out of vertex\n",
    "            elif edges[k][0] == i:\n",
    "                # print(f'- I{k}')\n",
    "                matrix[i, k] = -1\n",
    "\n",
    "    # The rest (E - V + 1) equasions from II Kirchoff Law\n",
    "    # cycles = get_n_cycles(edges, neib_rep, n=e - v + 1)\n",
    "    cycles = new_get_n_cycles(edges, neib_rep, n=e - v + 1)\n",
    "    i = v - 1\n",
    "    for cycle in cycles:\n",
    "        edges_in_cycle = verticle_cycle_into_edges(cycle, edges)\n",
    "        for edge_index, sign in edges_in_cycle:\n",
    "            # Electromotive force applied: +/- ε\n",
    "            if edge_index == 0:\n",
    "                vector[i] = sign * edges[0][2]\n",
    "            # +/- I * R\n",
    "            else:\n",
    "                matrix[i, edge_index] = sign * edges[edge_index][2]\n",
    "        i += 1\n",
    "\n",
    "    return np.linalg.solve(matrix, vector)"
   ]
  },
  {
   "cell_type": "markdown",
   "metadata": {
    "collapsed": false
   },
   "source": [
    "## Functions for visualization of graphs\n"
   ]
  },
  {
   "cell_type": "code",
   "execution_count": 8,
   "metadata": {
    "collapsed": false
   },
   "outputs": [],
   "source": [
    "BLACK = \"000000\"\n",
    "LIGHT_GREEN = (153, 255, 153)\n",
    "DARK_RED = (133, 11, 11)\n",
    "\n",
    "\n",
    "def rgb_to_hex(rgb):\n",
    "    return \"%02x%02x%02x\" % rgb\n",
    "\n",
    "\n",
    "def get_edge_color(val, max_val, max_color=DARK_RED, min_color=LIGHT_GREEN):\n",
    "    factor = abs(val) / abs(max_val)\n",
    "    return rgb_to_hex(\n",
    "        tuple(\n",
    "            [\n",
    "                int(part[0] * (1 - factor) + part[1] * factor)\n",
    "                for part in zip(min_color, max_color)\n",
    "            ]\n",
    "        )\n",
    "    )\n",
    "\n",
    "\n",
    "def show_graph(edges, vertices_number, electric_currents):\n",
    "    g = Network(directed=True)\n",
    "\n",
    "    g.add_nodes(\n",
    "        [i for i in range(vertices_number)],\n",
    "        title=[\"Node \" + str(i) for i in range(vertices_number)],\n",
    "        size=[5 for i in range(vertices_number)],\n",
    "        color=[BLACK for i in range(vertices_number)],\n",
    "    )\n",
    "\n",
    "    is_voltage = True\n",
    "    for (a, b, resistance), current in zip(edges, electric_currents):\n",
    "        if current < 0:\n",
    "            a, b = b, a\n",
    "        message = (\n",
    "            \"U=%.2f\" % resistance + \"V\" if is_voltage else \"R=%.2f\" % resistance + \"Ω\"\n",
    "        )\n",
    "        message += \", I=%.2fA\" % abs(current)\n",
    "\n",
    "        color = get_edge_color(val=current, max_val=electric_currents[0])\n",
    "        g.add_edge(a, b, title=message, label=message, color=color)\n",
    "        is_voltage = False\n",
    "\n",
    "    g.show(\"example.html\", notebook=False)"
   ]
  },
  {
   "cell_type": "markdown",
   "metadata": {
    "collapsed": false
   },
   "source": [
    "# Generating random graphs\n",
    "\n",
    "They are sanitised: each vertex is connected to at least two other ones.\n"
   ]
  },
  {
   "cell_type": "code",
   "execution_count": 10,
   "metadata": {
    "collapsed": false
   },
   "outputs": [],
   "source": [
    "def generate_random_graph(n, electromotorive_force=10, resistance_bounds=(1, 10)):\n",
    "    get_random_resistance = lambda: randint(resistance_bounds[0], resistance_bounds[1])\n",
    "    edges = []\n",
    "    for i in range(n - 1):\n",
    "        connected = randint(i + 1, n - 1) if i != 0 else n - 1\n",
    "        edges.append((i, connected, get_random_resistance()))\n",
    "\n",
    "        for j in range(i + 1, n):\n",
    "            if i != j and j != connected and random() < 0.2:\n",
    "                edges.append((i, j, get_random_resistance()))\n",
    "\n",
    "    neib_rep = to_neibour_representation(edges)\n",
    "\n",
    "    # Sanitisation\n",
    "    for i in range(n):\n",
    "        while len(neib_rep[i]) < 2:\n",
    "            new_friend = randint(0, n - 1)\n",
    "            if new_friend != i and (\n",
    "                len(neib_rep[i]) == 0 or neib_rep[i][0][0] != new_friend\n",
    "            ):\n",
    "                edges.append((i, new_friend, get_random_resistance()))\n",
    "                neib_rep[i].append((new_friend, -1))\n",
    "                neib_rep[new_friend].append((i, -1))\n",
    "\n",
    "    edges[0] = edges[0][0], edges[0][1], electromotorive_force\n",
    "    return edges"
   ]
  },
  {
   "cell_type": "code",
   "execution_count": 130,
   "metadata": {
    "collapsed": false
   },
   "outputs": [],
   "source": [
    "def generate_bridge_random_graph(n, electromotorive_force=10):\n",
    "    if n < 6:\n",
    "        raise (\"Sorry amigo, 6 at least.\")\n",
    "    n1 = (n + 1) // 2\n",
    "    n2 = n // 2\n",
    "\n",
    "    edges1 = generate_random_graph(n1)\n",
    "    edges2 = generate_random_graph(n2)\n",
    "    for i in range(len(edges2)):\n",
    "        a, b, r = edges2[i]\n",
    "        edges2[i] = a + n1, b + n1, r\n",
    "    return (\n",
    "        [(0, n1, electromotorive_force)]\n",
    "        + edges1\n",
    "        + edges2\n",
    "        + [(randint(1, n1 - 1), randint(n1 + 1, n - 1), randint(1, 10))]\n",
    "    )"
   ]
  },
  {
   "cell_type": "code",
   "execution_count": 12,
   "metadata": {
    "collapsed": false
   },
   "outputs": [],
   "source": [
    "def generate_petersen_graph(electromotorive_force=10, resistance_bounds=(1, 10)):\n",
    "    get_random_resistance = lambda: randint(resistance_bounds[0], resistance_bounds[1])\n",
    "    edges = []\n",
    "    for i in range(5):\n",
    "        new_edges = [\n",
    "            (i, (i + 1) % 5, get_random_resistance()),\n",
    "            (i, i + 5, get_random_resistance()),\n",
    "            (i + 5, ((i + 2) % 5) + 5, get_random_resistance()),\n",
    "        ]\n",
    "        edges += new_edges\n",
    "\n",
    "    edges[0] = edges[0][0], edges[0][1], electromotorive_force\n",
    "    return edges"
   ]
  },
  {
   "cell_type": "code",
   "execution_count": 48,
   "metadata": {
    "collapsed": false
   },
   "outputs": [],
   "source": [
    "def generate_grid_graph(size, electromotorive_force=10, resistance_bounds=(1, 10)):\n",
    "    get_random_resistance = lambda: randint(resistance_bounds[0], resistance_bounds[1])\n",
    "    x, y = size\n",
    "    N = x * y\n",
    "    # sem = ((x+1) // 2, (y+1) // 2)\n",
    "    sem = (x // 2, (y - 1) // 2)\n",
    "    sem_ind = None\n",
    "    sem_i = None\n",
    "\n",
    "    edges = []\n",
    "    for i in range(N):\n",
    "        y0 = i // x\n",
    "        x0 = i % x\n",
    "        if x0 < x - 1:\n",
    "            edges.append((i, i + 1, get_random_resistance()))\n",
    "        if y0 < y - 1:\n",
    "            if (x0, y0) == sem:\n",
    "                sem_ind, sem_i = len(edges), (i, i + x)\n",
    "            edges.append((i, i + x, get_random_resistance()))\n",
    "    edges.pop(sem_ind)\n",
    "    edges = [(sem_i[0], sem_i[1], electromotorive_force)] + edges\n",
    "    return edges"
   ]
  },
  {
   "cell_type": "markdown",
   "metadata": {
    "collapsed": false
   },
   "source": [
    "# Code to generate examples\n",
    "\n",
    "N variable determines number of verticles.\n",
    "Graph visualisation is saved as _example.html_\n"
   ]
  },
  {
   "cell_type": "markdown",
   "metadata": {
    "collapsed": false
   },
   "source": [
    "#### Random graph\n"
   ]
  },
  {
   "cell_type": "code",
   "execution_count": 70,
   "metadata": {
    "collapsed": false
   },
   "outputs": [
    {
     "name": "stdout",
     "output_type": "stream",
     "text": [
      "example.html\n"
     ]
    }
   ],
   "source": [
    "N = 12\n",
    "\n",
    "random_edges = generate_random_graph(N)\n",
    "currents = solve(edges=random_edges)\n",
    "show_graph(random_edges, N, currents)"
   ]
  },
  {
   "cell_type": "markdown",
   "metadata": {
    "collapsed": false
   },
   "source": [
    "#### Bridge random graph\n"
   ]
  },
  {
   "cell_type": "code",
   "execution_count": 129,
   "metadata": {
    "collapsed": false
   },
   "outputs": [
    {
     "name": "stdout",
     "output_type": "stream",
     "text": [
      "example.html\n"
     ]
    }
   ],
   "source": [
    "N = 7\n",
    "\n",
    "random_edges = generate_bridge_random_graph(N)\n",
    "currents = solve(edges=random_edges)\n",
    "show_graph(random_edges, N, currents)"
   ]
  },
  {
   "cell_type": "markdown",
   "metadata": {
    "collapsed": false
   },
   "source": [
    "#### A cubic graph: Peterson graph\n"
   ]
  },
  {
   "cell_type": "code",
   "execution_count": 62,
   "metadata": {
    "collapsed": false
   },
   "outputs": [
    {
     "name": "stdout",
     "output_type": "stream",
     "text": [
      "example.html\n"
     ]
    }
   ],
   "source": [
    "petersen_graph_edges = generate_petersen_graph()\n",
    "currents = solve(edges=petersen_graph_edges)\n",
    "show_graph(petersen_graph_edges, 10, currents)"
   ]
  },
  {
   "cell_type": "markdown",
   "metadata": {
    "collapsed": false
   },
   "source": [
    "#### Grid graph\n"
   ]
  },
  {
   "cell_type": "code",
   "execution_count": 65,
   "metadata": {
    "collapsed": false
   },
   "outputs": [
    {
     "name": "stdout",
     "output_type": "stream",
     "text": [
      "example.html\n"
     ]
    }
   ],
   "source": [
    "size = (8, 4)\n",
    "\n",
    "grid_edges = generate_grid_graph(size)\n",
    "# show_graph(grid_edges, size[0] * size[1], [1 for _ in grid_edges])\n",
    "currents = solve(edges=grid_edges)\n",
    "show_graph(grid_edges, size[0] * size[1], currents)"
   ]
  },
  {
   "cell_type": "code",
   "execution_count": 173,
   "metadata": {
    "collapsed": false
   },
   "outputs": [],
   "source": [
    "## Testing correctness of the sollution"
   ]
  },
  {
   "cell_type": "code",
   "execution_count": 174,
   "metadata": {
    "collapsed": false
   },
   "outputs": [],
   "source": [
    "def check_first_kirchoff_law(edges, currents, verticle_number, eps=10**-8):\n",
    "    results = [0 for _ in range(verticle_number)]\n",
    "\n",
    "    for (a, b, _), curr in zip(edges, currents):\n",
    "        results[a] -= curr\n",
    "        results[b] += curr\n",
    "    # return results\n",
    "    for current in results:\n",
    "        # print(current)\n",
    "        if abs(current) > eps:\n",
    "            return False\n",
    "    return True"
   ]
  },
  {
   "cell_type": "code",
   "execution_count": 175,
   "metadata": {
    "collapsed": false
   },
   "outputs": [
    {
     "name": "stdout",
     "output_type": "stream",
     "text": [
      "Preparing tests...\n",
      "Solving...\n",
      "ok\n",
      "Test 1: PASSED\n",
      "Test 2: PASSED\n",
      "Test 3: PASSED\n",
      "Test 4: PASSED\n",
      "Test 5: PASSED\n",
      "Test 6: PASSED\n",
      "Test 7: PASSED\n",
      "Test 8: PASSED\n",
      "Test 9: PASSED\n"
     ]
    }
   ],
   "source": [
    "SMALL = 6\n",
    "MID = 20\n",
    "BIG = 40\n",
    "\n",
    "print(\"Preparing tests...\")\n",
    "tests = []\n",
    "\n",
    "for number in (SMALL, MID, BIG):\n",
    "    for generate_function in (generate_random_graph, generate_bridge_random_graph):\n",
    "        tests.append((generate_function(number), number))\n",
    "    tests.append(\n",
    "        (\n",
    "            generate_grid_graph(size=(number // 2, number // 2)),\n",
    "            (number // 2) * (number // 2),\n",
    "        )\n",
    "    )\n",
    "(generate_petersen_graph(), 10)\n",
    "\n",
    "print(\"Solving...\")\n",
    "currents = [solve(edges) for (edges, N) in tests]\n",
    "\n",
    "print(\"ok\")\n",
    "i = 1\n",
    "for (edges, N), result in zip(tests, currents):\n",
    "    print(f\"Test {i}:\", end=\" \")\n",
    "    if check_first_kirchoff_law(edges, result, verticle_number=N):\n",
    "        print(\"PASSED\")\n",
    "    else:\n",
    "        print(\"FAILED\")\n",
    "        break\n",
    "    i += 1"
   ]
  },
  {
   "cell_type": "markdown",
   "metadata": {
    "collapsed": false
   },
   "source": [
    "# Examples\n",
    "\n",
    "## Basic graph\n",
    "\n",
    "![title](img/small_graph.png)\n",
    "\n",
    "## Random graph\n",
    "\n",
    "![title](img/random_graph.png)\n",
    "\n",
    "## Bridge graph\n",
    "\n",
    "![title](img/bridge_graph.png)\n",
    "\n",
    "## Peterson graph (Cubic)\n",
    "\n",
    "![title](img/bridge_graph.png)\n",
    "\n",
    "## Grid graph\n",
    "\n",
    "![title](img/grid.png)\n"
   ]
  }
 ],
 "metadata": {
  "kernelspec": {
   "display_name": "Python 3",
   "language": "python",
   "name": "python3"
  },
  "language_info": {
   "codemirror_mode": {
    "name": "ipython",
    "version": 2
   },
   "file_extension": ".py",
   "mimetype": "text/x-python",
   "name": "python",
   "nbconvert_exporter": "python",
   "pygments_lexer": "ipython2",
   "version": "2.7.6"
  }
 },
 "nbformat": 4,
 "nbformat_minor": 0
}
