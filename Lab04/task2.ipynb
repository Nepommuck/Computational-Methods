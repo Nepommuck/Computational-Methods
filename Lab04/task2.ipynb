{
 "cells": [
  {
   "cell_type": "markdown",
   "source": [
    "# Zadanie 2\n",
    "## Obraz binarny"
   ],
   "metadata": {
    "collapsed": false
   }
  },
  {
   "cell_type": "code",
   "execution_count": 57,
   "outputs": [],
   "source": [
    "import imageio\n",
    "\n",
    "from matplotlib import pyplot as plt\n",
    "from matplotlib import cm\n",
    "\n",
    "from random import random, randrange"
   ],
   "metadata": {
    "collapsed": false
   }
  },
  {
   "cell_type": "markdown",
   "source": [
    "## Matter representation\n",
    "Matter is represented as an array with boolean values (later called colors).\n",
    "\n",
    "## Energy function\n",
    "Energy is defined as a matrix with an odd-number of columns and rows. The central element is always zero and it represents the point for which we are calculating the energy. Every other element is mapped to the matter array and is multiplied by (-1) when is of different color and by 1 when the same. The resulting sum is an energy of a point. Total energy will be the sum of energies of each point."
   ],
   "metadata": {
    "collapsed": false
   }
  },
  {
   "cell_type": "code",
   "execution_count": 58,
   "outputs": [],
   "source": [
    "# Implemented energy functions\n",
    "\n",
    "philia = [\n",
    "    [0, -1, 0],\n",
    "    [-1, 0, -1],\n",
    "    [0, -1, 0]\n",
    "]\n",
    "phobia = [\n",
    "    [0, 1, 0],\n",
    "    [1, 0, 1],\n",
    "    [0, 1, 0]\n",
    "]\n",
    "horizontal = [\n",
    "    [1, 1, 1],\n",
    "    [-1, 0, -1],\n",
    "    [1, 1, 1]\n",
    "]\n",
    "diagonal = [\n",
    "    [-1, 0.5, 1],\n",
    "    [-0.5, 0, -0.5],\n",
    "    [1, 0.5, -1]\n",
    "]\n",
    "grid = [\n",
    "    [-1, 0, -1, 0, -1],\n",
    "    [0, 1, 0, 1, 0],\n",
    "    [-1, 0, 0, 0, -1],\n",
    "    [0, 1, 0, 1, 0],\n",
    "    [-1, 0, -1, 0, -1],\n",
    "]\n",
    "cubic = [\n",
    "    [1, 0.5, -0.5, 0.5, 1],\n",
    "    [0.5, -0.5, -1, -0.5, 0.5],\n",
    "    [-0.5, -1, 0, -1, -0.5],\n",
    "    [0.5, -0.5, -1, -0.5, 0.5],\n",
    "    [1, 0.5, -0.5, 0.5, 1],\n",
    "]"
   ],
   "metadata": {
    "collapsed": false
   }
  },
  {
   "cell_type": "markdown",
   "source": [
    "Functions that calculate single cell energy and energy of the whole system"
   ],
   "metadata": {
    "collapsed": false
   }
  },
  {
   "cell_type": "code",
   "execution_count": 59,
   "outputs": [],
   "source": [
    "def calculate_cell_energy(point, matter, energy_system):\n",
    "    mat_x, mat_y = len(matter[0]), len(matter)\n",
    "    r_y = len(energy_system) // 2\n",
    "    r_x = len(energy_system[0]) // 2\n",
    "\n",
    "    x, y = point\n",
    "    element = matter[y][x]\n",
    "    energy = 0\n",
    "    for dy in range(-r_y, r_y + 1):\n",
    "        for dx in range(-r_x, r_x + 1):\n",
    "            if 0 <= y+dy < mat_y and 0 <= x+dx < mat_x and (dy != 0 or dx != 0):\n",
    "                energy += (1 if matter[y+dy][x+dx] == element else -1) * energy_system[r_y + dy][r_x + dx]\n",
    "    return energy\n",
    "\n",
    "def calculate_total_energy(matter, energy_system):\n",
    "    mat_x, mat_y = len(matter[0]), len(matter)\n",
    "\n",
    "    energy = 0\n",
    "    for y in range(mat_y):\n",
    "        for x in range(mat_x):\n",
    "            energy += calculate_cell_energy(point=(x, y), matter=matter, energy_system=energy_system)\n",
    "    return energy"
   ],
   "metadata": {
    "collapsed": false
   }
  },
  {
   "cell_type": "markdown",
   "source": [
    "This function swaps two points (passed in points_changed) and returns the energy difference resulted from this swap"
   ],
   "metadata": {
    "collapsed": false
   }
  },
  {
   "cell_type": "code",
   "execution_count": 60,
   "outputs": [],
   "source": [
    "# Returns energy difference\n",
    "def update_matter(matter, energy_system, points_changed):\n",
    "    mat_x, mat_y = len(matter[0]), len(matter)\n",
    "    r_y = len(energy_system) // 2\n",
    "    r_x = len(energy_system[0]) // 2\n",
    "\n",
    "    delta_energy = 0\n",
    "    for (x, y) in points_changed:\n",
    "        for dy in range(-r_y, r_y + 1):\n",
    "            for dx in range(-r_x, r_x + 1):\n",
    "                if 0 <= y+dy < mat_y and 0 <= x+dx < mat_x:\n",
    "                    delta_energy -= calculate_cell_energy((x+dx, y+dy), matter, energy_system)\n",
    "\n",
    "    for (x, y) in points_changed:\n",
    "        matter[y][x] = not matter[y][x]\n",
    "\n",
    "    for (x, y) in points_changed:\n",
    "        for dy in range(-r_y, r_y + 1):\n",
    "            for dx in range(-r_x, r_x + 1):\n",
    "                if 0 <= y+dy < mat_y and 0 <= x+dx < mat_x:\n",
    "                    delta_energy += calculate_cell_energy((x+dx, y+dy), matter, energy_system)\n",
    "\n",
    "    return delta_energy"
   ],
   "metadata": {
    "collapsed": false
   }
  },
  {
   "cell_type": "markdown",
   "source": [
    "Function that returns random matter array with given size and share of black points"
   ],
   "metadata": {
    "collapsed": false
   }
  },
  {
   "cell_type": "code",
   "execution_count": 61,
   "outputs": [],
   "source": [
    "def generate_random_matter(size=(10, 20), share=0.5):\n",
    "    return [\n",
    "        [\n",
    "            random() > share for _ in range(size[1])\n",
    "        ] for _ in range(size[0])\n",
    "    ]"
   ],
   "metadata": {
    "collapsed": false
   }
  },
  {
   "cell_type": "code",
   "execution_count": 62,
   "outputs": [],
   "source": [
    "def get_two_random_contrary_points(matter):\n",
    "    max_x, max_y = len(matter[0]), len(matter)\n",
    "    while True:\n",
    "        x1, x2 = [randrange(max_x) for _ in range(2)]\n",
    "        y1, y2 = [randrange(max_y) for _ in range(2)]\n",
    "        if matter[y1][x1] != matter[y2][x2]:\n",
    "            return (x1, y1), (x2, y2)"
   ],
   "metadata": {
    "collapsed": false
   }
  },
  {
   "cell_type": "markdown",
   "source": [
    "### Simulation function\n",
    "The simulation will have given number of iterations.\n",
    "The temperature is represented by the function:\n",
    "*y = a ^i^*\n",
    "where *a* is *temp_exponent* parameter.\n",
    "In each iteration the neibouring state is generated. If it's energy is lower, then the state always accepted. Otherwise, it is determined by the current temperature, *acceptance_factor* parameter and a random factor. If state is not accepted, then the changes are reverted. One per *save_one_in_n_frames* states is saved as a *.png* for *.gif* file to be generated later."
   ],
   "metadata": {
    "collapsed": false
   }
  },
  {
   "cell_type": "code",
   "execution_count": 63,
   "outputs": [],
   "source": [
    "def simulation(matter, energy_system, iterations, temp_exponent=0.95, acceptance_factor=50, save_one_in_n_frames=None):\n",
    "    results = []\n",
    "    current_energy = calculate_total_energy(matter, energy_system)\n",
    "    frame_index = 0\n",
    "\n",
    "    temperature = 1\n",
    "\n",
    "    for i in range(iterations):\n",
    "        (x1, y1), (x2, y2) = get_two_random_contrary_points(matter)\n",
    "\n",
    "        temperature *= temp_exponent\n",
    "        new_energy = current_energy + update_matter(matter, energy_system, points_changed=[(x1, y1), (x2, y2)])\n",
    "\n",
    "        if (new_energy - current_energy) * random() < acceptance_factor * temperature:\n",
    "            current_energy = new_energy\n",
    "        # Revert changes\n",
    "        else:\n",
    "            matter[y1][x1], matter[y2][x2] = matter[y2][x2], matter[y1][x1]\n",
    "\n",
    "        if save_one_in_n_frames is not None and i % save_one_in_n_frames == 0:\n",
    "            plt.imshow(matter, interpolation='nearest', cmap=cm.Greys_r)\n",
    "            plt.savefig(f'./tmp/task2/img_{frame_index}.png',\n",
    "                transparent = False,\n",
    "                facecolor = 'white'\n",
    "               )\n",
    "            plt.close()\n",
    "            frame_index += 1\n",
    "\n",
    "        results.append(current_energy)\n",
    "    return results, frame_index"
   ],
   "metadata": {
    "collapsed": false
   }
  },
  {
   "cell_type": "code",
   "execution_count": 64,
   "outputs": [],
   "source": [
    "def create_gif(frames_number, looping=False):\n",
    "    frames = []\n",
    "    for i in range(frames_number):\n",
    "        image = imageio.v2.imread(f'./tmp/Task2/img_{i}.png')\n",
    "        frames.append(image)\n",
    "\n",
    "    imageio.mimsave('./example.gif', ims=frames, fps = 5, loop=0 if looping else 1)"
   ],
   "metadata": {
    "collapsed": false
   }
  },
  {
   "cell_type": "markdown",
   "source": [
    "# Examples\n",
    "#### \"Philia\" grid\n",
    "Energy is lower when the same colors are next to each other\n",
    "\n",
    "![title](examples/Task2/philia_chart.png)\n",
    "![title](examples/Task2/philia.gif)\n",
    "\n",
    "#### \"Phobia\" grid\n",
    "Energy is higher when the same colors are next to each other\n",
    "\n",
    "![title](examples/Task2/phobia_chart.png)\n",
    "![title](examples/Task2/phobia.gif)\n",
    "\n",
    "#### \"Diagonal\" grid\n",
    "Energy is lower when the same colors are on the one diagonal and higher when on the other\n",
    "\n",
    "![title](examples/Task2/diagonal_chart.png)\n",
    "![title](examples/Task2/diagonal.gif)\n",
    "\n",
    "#### \"Grid\" grid\n",
    "Energy is lower when the same colors are in the row or column next to the other color row/column\n",
    "\n",
    "![title](examples/Task2/grid_chart.png)\n",
    "![title](examples/Task2/grid.gif)\n",
    "\n",
    "#### \"Cubic\" grid\n",
    "Energy is lower when the same colors are next to each other, but one slot further is the other color\n",
    "\n",
    "![title](examples/Task2/cubic_chart.png)\n",
    "![title](examples/Task2/cubic.gif)"
   ],
   "metadata": {
    "collapsed": false
   }
  },
  {
   "cell_type": "markdown",
   "source": [
    "### Code to generate simulations\n",
    "Result will be saved as *example.gif*"
   ],
   "metadata": {
    "collapsed": false
   }
  },
  {
   "cell_type": "code",
   "execution_count": 65,
   "outputs": [
    {
     "data": {
      "text/plain": "<Figure size 640x480 with 1 Axes>",
      "image/png": "[encoded data removed]"
     },
     "metadata": {},
     "output_type": "display_data"
    }
   ],
   "source": [
    "matter = generate_random_matter(\n",
    "    size=(50, 50), share=0.5\n",
    ")\n",
    "results, frames_number = simulation(\n",
    "    matter, iterations=100_000, temp_exponent=0.99993, acceptance_factor=3, save_one_in_n_frames=4000,\n",
    "    energy_system=philia\n",
    "    # energy_system=phobia\n",
    "    # energy_system=diagonal\n",
    "    # energy_system=grid\n",
    "    # energy_system=cubic\n",
    ")\n",
    "\n",
    "plt.plot([i for i in range(len(results))], results)\n",
    "plt.title(\"Custom simulation\")\n",
    "plt.xlabel(\"Iteration\")\n",
    "plt.ylabel(\"Total energy\")\n",
    "\n",
    "create_gif(frames_number, looping=False)"
   ],
   "metadata": {
    "collapsed": false
   }
  }
 ],
 "metadata": {
  "kernelspec": {
   "display_name": "Python 3",
   "language": "python",
   "name": "python3"
  },
  "language_info": {
   "codemirror_mode": {
    "name": "ipython",
    "version": 2
   },
   "file_extension": ".py",
   "mimetype": "text/x-python",
   "name": "python",
   "nbconvert_exporter": "python",
   "pygments_lexer": "ipython2",
   "version": "2.7.6"
  }
 },
 "nbformat": 4,
 "nbformat_minor": 0
}
