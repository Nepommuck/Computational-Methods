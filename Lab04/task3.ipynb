{
 "cells": [
  {
   "cell_type": "markdown",
   "source": [
    "# Zadanie 3\n",
    "## Sudoku"
   ],
   "metadata": {
    "collapsed": false
   }
  },
  {
   "cell_type": "code",
   "execution_count": 22,
   "outputs": [],
   "source": [
    "import random\n",
    "import time\n",
    "\n",
    "from copy import deepcopy\n",
    "from matplotlib import pyplot as plt\n",
    "from random import randrange\n",
    "from termcolor import colored"
   ],
   "metadata": {
    "collapsed": false
   }
  },
  {
   "cell_type": "markdown",
   "source": [
    "## Strategy\n",
    "### Guessing\n",
    "In each 3x3 quare we fill randomly empty slots, so that there are no 2 same numbers.\n",
    "### Swaping\n",
    "In each iteration we choose random square and inside it, we swap 2 random guessed numbers. Numbers are not moved between squares.\n",
    "### Counting score\n",
    "Since there will never be 2 same numbers in a square, we care only about rows and colums. Each duplicated number in row/column adds 1 point to the score\n",
    "### Number of iterations\n",
    "Since in this excercise we clearly know if we found the optimal state, we do not limit ourselves by maximal number of iterations. The solving process will last as long as it requires to fully solve sudoku.\n",
    "### modus operandi\n",
    "By testing I decided to follow the following way of acting: Single simulation takes at most 8,000 operations. After that the odds of finding a sollution are very low (because the low temperature makes us stuck in a local minimum), so we reset the temperature function while keeping the current state. That gives us an oportunity to escape local minimum without loosing progress. If after 60,000 iterations in total we didn't find the sollution, then that means that we are really stuck in a state that has low score but is far from the sollution. We restart the whole state (pick again numbers at random) and start all over again."
   ],
   "metadata": {
    "collapsed": false
   }
  },
  {
   "cell_type": "code",
   "execution_count": 23,
   "outputs": [],
   "source": [
    "def read_sudoku_from_file(filename):\n",
    "    file = open(filename, 'r')\n",
    "    sudoku = []\n",
    "    for line in file.readlines():\n",
    "        sudoku.append([])\n",
    "        for char in line:\n",
    "            if char in \"123456789x\":\n",
    "                sudoku[-1].append(\n",
    "                    None if char == 'x' else char\n",
    "                )\n",
    "    file.close()\n",
    "    return sudoku"
   ],
   "metadata": {
    "collapsed": false
   }
  },
  {
   "cell_type": "code",
   "execution_count": 24,
   "outputs": [],
   "source": [
    "def randomly_fill_sudoku(sudoku):\n",
    "    guesses = []\n",
    "    for row in range(3):\n",
    "        for column in range(3):\n",
    "            available = [True for _ in range(9)]\n",
    "            empty = []\n",
    "            for i in range(9):\n",
    "                y = 3 * row + (i // 3)\n",
    "                x = 3 * column + (i % 3)\n",
    "                char = sudoku[y][x]\n",
    "                if char is None:\n",
    "                    empty.append((x, y))\n",
    "                else:\n",
    "                    available[ord(char) - ord('1')] = False\n",
    "            for (x, y) in empty:\n",
    "                index = randrange(9)\n",
    "                while not available[index]:\n",
    "                    index = (index + 1) % 9\n",
    "                available[index] = False\n",
    "                sudoku[y][x] = chr(index + ord('1'))\n",
    "\n",
    "            if len(empty) > 1:\n",
    "                guesses.append(empty)\n",
    "    return guesses"
   ],
   "metadata": {
    "collapsed": false
   }
  },
  {
   "cell_type": "code",
   "execution_count": 25,
   "outputs": [],
   "source": [
    "def calculate_score(sudoku):\n",
    "    score = 0\n",
    "    # Rows\n",
    "    for row in sudoku:\n",
    "        used = [False for _ in range(9)]\n",
    "        for char in row:\n",
    "            index = ord(char) - ord('1')\n",
    "            if used[index]:\n",
    "                score += 1\n",
    "            used[index] = True\n",
    "    # Columns\n",
    "    for x in range(9):\n",
    "        used = [False for _ in range(9)]\n",
    "        for y in range(9):\n",
    "            index = ord(sudoku[y][x]) - ord('1')\n",
    "            if used[index]:\n",
    "                score += 1\n",
    "            used[index] = True\n",
    "    return score"
   ],
   "metadata": {
    "collapsed": false
   }
  },
  {
   "cell_type": "code",
   "execution_count": 26,
   "outputs": [],
   "source": [
    "def print_sudoku(sudoku, solved_sudoku=None):\n",
    "    # for row in sudoku:\n",
    "    for y in range(9):\n",
    "        # for char in row:\n",
    "        for x in range(9):\n",
    "            char = sudoku[y][x]\n",
    "            if solved_sudoku is None:\n",
    "                print(char if char is not None else '_', end=' ')\n",
    "            else:\n",
    "                if char is not None:\n",
    "                    print(char, end=' ')\n",
    "                else:\n",
    "                    print(colored(solved_sudoku[y][x], color='red'), end=' ')\n",
    "        print()"
   ],
   "metadata": {
    "collapsed": false
   }
  },
  {
   "cell_type": "code",
   "execution_count": 27,
   "outputs": [],
   "source": [
    "def simulation(sudoku, guesses, max_iterations, temp_exponent, acceptance_factor):\n",
    "    results = []\n",
    "    current_energy = calculate_score(sudoku)\n",
    "\n",
    "    temperature = 1\n",
    "\n",
    "    for i in range(max_iterations):\n",
    "        (x1, y1), (x2, y2) = random.choices(population=random.choice(guesses), k=2)\n",
    "        sudoku[y1][x1], sudoku[y2][x2] = sudoku[y2][x2], sudoku[y1][x1]\n",
    "\n",
    "        temperature *= temp_exponent\n",
    "\n",
    "        new_energy = calculate_score(sudoku)\n",
    "        if (new_energy - current_energy) * random.random() < acceptance_factor * temperature:\n",
    "            current_energy = new_energy\n",
    "        # Revert changes\n",
    "        else:\n",
    "            sudoku[y1][x1], sudoku[y2][x2] = sudoku[y2][x2], sudoku[y1][x1]\n",
    "\n",
    "        results.append(current_energy)\n",
    "        # if i % 10 == 0:\n",
    "        #     print(f'{i}: {current_energy}')\n",
    "        if current_energy <= 0:\n",
    "            return results, True\n",
    "    return results, False"
   ],
   "metadata": {
    "collapsed": false
   }
  },
  {
   "cell_type": "code",
   "execution_count": 28,
   "outputs": [],
   "source": [
    "ONE_TIME_ITERATIONS = 8_000\n",
    "ITERATIONS_TO_RESTART = 60_000\n",
    "\n",
    "def solve(sudoku):\n",
    "    original_sudoku = deepcopy(sudoku)\n",
    "    results = []\n",
    "    guesses = randomly_fill_sudoku(sudoku)\n",
    "\n",
    "    iterations_left = ITERATIONS_TO_RESTART\n",
    "    is_solved = False\n",
    "    while not is_solved:\n",
    "        if iterations_left < 0:\n",
    "            sudoku = deepcopy(original_sudoku)\n",
    "            guesses = randomly_fill_sudoku(sudoku)\n",
    "            iterations_left = ITERATIONS_TO_RESTART\n",
    "\n",
    "        new_results, is_solved = simulation(sudoku, guesses, max_iterations=ONE_TIME_ITERATIONS, temp_exponent=0.9995, acceptance_factor=0.02)\n",
    "        iterations_left -= ONE_TIME_ITERATIONS\n",
    "        results += new_results\n",
    "    return results"
   ],
   "metadata": {
    "collapsed": false
   }
  },
  {
   "cell_type": "code",
   "execution_count": 29,
   "outputs": [],
   "source": [
    "def generate_report(number_of_sudokus=50):\n",
    "    iterations = []\n",
    "    time_measurements = []\n",
    "    for i in range(1, number_of_sudokus+1):\n",
    "        print(f\"Sudoku {i}\")\n",
    "        sudoku = read_sudoku_from_file(f\"sudokus\\\\veryhard\\\\{i}.txt\")\n",
    "\n",
    "        start_time = time.time()\n",
    "        results = solve(sudoku)\n",
    "        finished_time = time.time()\n",
    "\n",
    "        seconds_elapsed = finished_time - start_time\n",
    "        iterations.append(len(results))\n",
    "        time_measurements.append(seconds_elapsed)\n",
    "\n",
    "        print(f\"Iterations: {len(results)}\")\n",
    "        print(\"Time elapsed: \" +\n",
    "            (\"\" if seconds_elapsed < 60 else f\"{seconds_elapsed // 60}min \") + f\"{round(seconds_elapsed % 60)}s\",\n",
    "            end='\\n\\n')\n",
    "    return iterations, time_measurements"
   ],
   "metadata": {
    "collapsed": false
   }
  },
  {
   "cell_type": "markdown",
   "source": [
    "# Results\n",
    "**The algorithm managed to solve all 50 sudokus!**\n",
    "It took between almost no time and 1 minute on my computer. Results are compleately nondeterministic: after running it again all sudokus were solved with completely different time_measurements.\n",
    "One of the results I got:\n",
    "![title](examples/Task3/iterations.png)\n",
    "![title](examples/Task3/time.png)"
   ],
   "metadata": {
    "collapsed": false
   }
  },
  {
   "cell_type": "markdown",
   "source": [
    "# Try it youself\n",
    "Be aware, it may take nanoseconds, but it may alse take few minutes..."
   ],
   "metadata": {
    "collapsed": false
   }
  },
  {
   "cell_type": "code",
   "execution_count": 30,
   "outputs": [
    {
     "name": "stdout",
     "output_type": "stream",
     "text": [
      "\u001B[31m7\u001B[0m 8 \u001B[31m6\u001B[0m \u001B[31m9\u001B[0m \u001B[31m4\u001B[0m 5 \u001B[31m3\u001B[0m \u001B[31m1\u001B[0m \u001B[31m2\u001B[0m \n",
      "\u001B[31m2\u001B[0m \u001B[31m1\u001B[0m \u001B[31m9\u001B[0m \u001B[31m8\u001B[0m \u001B[31m6\u001B[0m 3 4 5 7 \n",
      "\u001B[31m5\u001B[0m \u001B[31m3\u001B[0m \u001B[31m4\u001B[0m \u001B[31m2\u001B[0m 7 \u001B[31m1\u001B[0m 8 \u001B[31m6\u001B[0m 9 \n",
      "\u001B[31m1\u001B[0m 6 \u001B[31m5\u001B[0m 4 \u001B[31m8\u001B[0m \u001B[31m2\u001B[0m 9 \u001B[31m7\u001B[0m 3 \n",
      "\u001B[31m3\u001B[0m \u001B[31m2\u001B[0m 7 \u001B[31m6\u001B[0m 1 \u001B[31m9\u001B[0m 5 \u001B[31m4\u001B[0m \u001B[31m8\u001B[0m \n",
      "4 \u001B[31m9\u001B[0m 8 \u001B[31m5\u001B[0m \u001B[31m3\u001B[0m 7 \u001B[31m1\u001B[0m 2 \u001B[31m6\u001B[0m \n",
      "9 \u001B[31m5\u001B[0m 1 \u001B[31m7\u001B[0m 2 \u001B[31m8\u001B[0m \u001B[31m6\u001B[0m \u001B[31m3\u001B[0m \u001B[31m4\u001B[0m \n",
      "8 4 2 3 \u001B[31m5\u001B[0m \u001B[31m6\u001B[0m \u001B[31m7\u001B[0m \u001B[31m9\u001B[0m \u001B[31m1\u001B[0m \n",
      "\u001B[31m6\u001B[0m \u001B[31m7\u001B[0m \u001B[31m3\u001B[0m 1 \u001B[31m9\u001B[0m \u001B[31m4\u001B[0m \u001B[31m2\u001B[0m 8 \u001B[31m5\u001B[0m \n",
      "Score: 0\n"
     ]
    },
    {
     "data": {
      "text/plain": "Text(0, 0.5, 'Total score')"
     },
     "execution_count": 30,
     "metadata": {},
     "output_type": "execute_result"
    },
    {
     "data": {
      "text/plain": "<Figure size 640x480 with 1 Axes>",
      "image/png": "[encoded data removed]"
     },
     "metadata": {},
     "output_type": "display_data"
    }
   ],
   "source": [
    "# Between 1 and 50\n",
    "NUMBER = 18\n",
    "\n",
    "unsolved_sudoku = read_sudoku_from_file(f\"sudokus\\\\veryhard\\\\{NUMBER}.txt\")\n",
    "\n",
    "sudoku = deepcopy(unsolved_sudoku)\n",
    "results = solve(sudoku)\n",
    "\n",
    "print_sudoku(unsolved_sudoku, solved_sudoku=sudoku)\n",
    "print(\"Score: \" + str(calculate_score(sudoku)))\n",
    "\n",
    "plt.plot([i for i in range(len(results))], results)\n",
    "plt.xlabel(\"Iteration\")\n",
    "plt.ylabel(\"Total score\")"
   ],
   "metadata": {
    "collapsed": false
   }
  },
  {
   "cell_type": "markdown",
   "source": [
    "# Full report:\n",
    "\n",
    "Sudoku 1\n",
    "Iterations: 17192\n",
    "Time elapsed: 1s\n",
    "\n",
    "Sudoku 2\n",
    "Iterations: 140363\n",
    "Time elapsed: 7s\n",
    "\n",
    "Sudoku 3\n",
    "Iterations: 263406\n",
    "Time elapsed: 10s\n",
    "\n",
    "Sudoku 4\n",
    "Iterations: 30795\n",
    "Time elapsed: 1s\n",
    "\n",
    "Sudoku 5\n",
    "Iterations: 2511\n",
    "Time elapsed: 0s\n",
    "\n",
    "Sudoku 6\n",
    "Iterations: 191733\n",
    "Time elapsed: 7s\n",
    "\n",
    "Sudoku 7\n",
    "Iterations: 210808\n",
    "Time elapsed: 8s\n",
    "\n",
    "Sudoku 8\n",
    "Iterations: 4941\n",
    "Time elapsed: 0s\n",
    "\n",
    "Sudoku 9\n",
    "Iterations: 52430\n",
    "Time elapsed: 2s\n",
    "\n",
    "Sudoku 10\n",
    "Iterations: 28235\n",
    "Time elapsed: 1s\n",
    "\n",
    "Sudoku 11\n",
    "Iterations: 177729\n",
    "Time elapsed: 7s\n",
    "\n",
    "Sudoku 12\n",
    "Iterations: 11212\n",
    "Time elapsed: 0s\n",
    "\n",
    "Sudoku 13\n",
    "Iterations: 266884\n",
    "Time elapsed: 10s\n",
    "\n",
    "Sudoku 14\n",
    "Iterations: 33787\n",
    "Time elapsed: 1s\n",
    "\n",
    "Sudoku 15\n",
    "Iterations: 419787\n",
    "Time elapsed: 16s\n",
    "\n",
    "Sudoku 16\n",
    "Iterations: 619\n",
    "Time elapsed: 0s\n",
    "\n",
    "Sudoku 17\n",
    "Iterations: 1669\n",
    "Time elapsed: 0s\n",
    "\n",
    "Sudoku 18\n",
    "Iterations: 19062\n",
    "Time elapsed: 1s\n",
    "\n",
    "Sudoku 19\n",
    "Iterations: 11954\n",
    "Time elapsed: 0s\n",
    "\n",
    "Sudoku 20\n",
    "Iterations: 4946\n",
    "Time elapsed: 0s\n",
    "\n",
    "Sudoku 21\n",
    "Iterations: 8373\n",
    "Time elapsed: 0s\n",
    "\n",
    "Sudoku 22\n",
    "Iterations: 328080\n",
    "Time elapsed: 12s\n",
    "\n",
    "Sudoku 23\n",
    "Iterations: 23637\n",
    "Time elapsed: 1s\n",
    "\n",
    "Sudoku 24\n",
    "Iterations: 4523\n",
    "Time elapsed: 0s\n",
    "\n",
    "Sudoku 25\n",
    "Iterations: 232256\n",
    "Time elapsed: 9s\n",
    "\n",
    "Sudoku 26\n",
    "Iterations: 542349\n",
    "Time elapsed: 20s\n",
    "\n",
    "Sudoku 27\n",
    "Iterations: 165822\n",
    "Time elapsed: 6s\n",
    "\n",
    "Sudoku 28\n",
    "Iterations: 17860\n",
    "Time elapsed: 1s\n",
    "\n",
    "Sudoku 29\n",
    "Iterations: 339864\n",
    "Time elapsed: 13s\n",
    "\n",
    "Sudoku 30\n",
    "Iterations: 97541\n",
    "Time elapsed: 4s\n",
    "\n",
    "Sudoku 31\n",
    "Iterations: 340916\n",
    "Time elapsed: 13s\n",
    "\n",
    "Sudoku 32\n",
    "Iterations: 548008\n",
    "Time elapsed: 20s\n",
    "\n",
    "Sudoku 33\n",
    "Iterations: 14700\n",
    "Time elapsed: 1s\n",
    "\n",
    "Sudoku 34\n",
    "Iterations: 19907\n",
    "Time elapsed: 1s\n",
    "\n",
    "Sudoku 35\n",
    "Iterations: 31922\n",
    "Time elapsed: 1s\n",
    "\n",
    "Sudoku 36\n",
    "Iterations: 128915\n",
    "Time elapsed: 5s\n",
    "\n",
    "Sudoku 37\n",
    "Iterations: 33435\n",
    "Time elapsed: 1s\n",
    "\n",
    "Sudoku 38\n",
    "Iterations: 2569\n",
    "Time elapsed: 0s\n",
    "\n",
    "Sudoku 39\n",
    "Iterations: 10883\n",
    "Time elapsed: 0s\n",
    "\n",
    "Sudoku 40\n",
    "Iterations: 28077\n",
    "Time elapsed: 1s\n",
    "\n",
    "Sudoku 41\n",
    "Iterations: 188414\n",
    "Time elapsed: 7s\n",
    "\n",
    "Sudoku 42\n",
    "Iterations: 38307\n",
    "Time elapsed: 1s\n",
    "\n",
    "Sudoku 43\n",
    "Iterations: 554348\n",
    "Time elapsed: 21s\n",
    "\n",
    "Sudoku 44\n",
    "Iterations: 15735\n",
    "Time elapsed: 1s\n",
    "\n",
    "Sudoku 45\n",
    "Iterations: 26968\n",
    "Time elapsed: 1s\n",
    "\n",
    "Sudoku 46\n",
    "Iterations: 12311\n",
    "Time elapsed: 0s\n",
    "\n",
    "Sudoku 47\n",
    "Iterations: 1604913\n",
    "Time elapsed: 1.0min 1s\n",
    "\n",
    "Sudoku 48\n",
    "Iterations: 888621\n",
    "Time elapsed: 33s\n",
    "\n",
    "Sudoku 49\n",
    "Iterations: 351147\n",
    "Time elapsed: 13s\n",
    "\n",
    "Sudoku 50\n",
    "Iterations: 115785\n",
    "Time elapsed: 4s\n"
   ],
   "metadata": {
    "collapsed": false
   }
  },
  {
   "cell_type": "markdown",
   "source": [
    "## Generating report"
   ],
   "metadata": {
    "collapsed": false
   }
  },
  {
   "cell_type": "code",
   "execution_count": 31,
   "outputs": [
    {
     "name": "stdout",
     "output_type": "stream",
     "text": [
      "Sudoku 1\n",
      "Iterations: 14635\n",
      "Time elapsed: 1s\n",
      "\n",
      "Sudoku 2\n",
      "Iterations: 74811\n",
      "Time elapsed: 3s\n",
      "\n",
      "Sudoku 3\n"
     ]
    },
    {
     "ename": "KeyboardInterrupt",
     "evalue": "",
     "output_type": "error",
     "traceback": [
      "\u001B[1;31m---------------------------------------------------------------------------\u001B[0m",
      "\u001B[1;31mKeyboardInterrupt\u001B[0m                         Traceback (most recent call last)",
      "Cell \u001B[1;32mIn[31], line 1\u001B[0m\n\u001B[1;32m----> 1\u001B[0m iterations, time_measurements \u001B[38;5;241m=\u001B[39m \u001B[43mgenerate_report\u001B[49m\u001B[43m(\u001B[49m\u001B[43m)\u001B[49m\n",
      "Cell \u001B[1;32mIn[29], line 9\u001B[0m, in \u001B[0;36mgenerate_report\u001B[1;34m(number_of_sudokus)\u001B[0m\n\u001B[0;32m      6\u001B[0m sudoku \u001B[38;5;241m=\u001B[39m read_sudoku_from_file(\u001B[38;5;124mf\u001B[39m\u001B[38;5;124m\"\u001B[39m\u001B[38;5;124msudokus\u001B[39m\u001B[38;5;130;01m\\\\\u001B[39;00m\u001B[38;5;124mveryhard\u001B[39m\u001B[38;5;130;01m\\\\\u001B[39;00m\u001B[38;5;132;01m{\u001B[39;00mi\u001B[38;5;132;01m}\u001B[39;00m\u001B[38;5;124m.txt\u001B[39m\u001B[38;5;124m\"\u001B[39m)\n\u001B[0;32m      8\u001B[0m start_time \u001B[38;5;241m=\u001B[39m time\u001B[38;5;241m.\u001B[39mtime()\n\u001B[1;32m----> 9\u001B[0m results \u001B[38;5;241m=\u001B[39m \u001B[43msolve\u001B[49m\u001B[43m(\u001B[49m\u001B[43msudoku\u001B[49m\u001B[43m)\u001B[49m\n\u001B[0;32m     10\u001B[0m finished_time \u001B[38;5;241m=\u001B[39m time\u001B[38;5;241m.\u001B[39mtime()\n\u001B[0;32m     12\u001B[0m seconds_elapsed \u001B[38;5;241m=\u001B[39m finished_time \u001B[38;5;241m-\u001B[39m start_time\n",
      "Cell \u001B[1;32mIn[28], line 17\u001B[0m, in \u001B[0;36msolve\u001B[1;34m(sudoku)\u001B[0m\n\u001B[0;32m     14\u001B[0m     guesses \u001B[38;5;241m=\u001B[39m randomly_fill_sudoku(sudoku)\n\u001B[0;32m     15\u001B[0m     iterations_left \u001B[38;5;241m=\u001B[39m ITERATIONS_TO_RESTART\n\u001B[1;32m---> 17\u001B[0m new_results, is_solved \u001B[38;5;241m=\u001B[39m \u001B[43msimulation\u001B[49m\u001B[43m(\u001B[49m\u001B[43msudoku\u001B[49m\u001B[43m,\u001B[49m\u001B[43m \u001B[49m\u001B[43mguesses\u001B[49m\u001B[43m,\u001B[49m\u001B[43m \u001B[49m\u001B[43mmax_iterations\u001B[49m\u001B[38;5;241;43m=\u001B[39;49m\u001B[43mONE_TIME_ITERATIONS\u001B[49m\u001B[43m,\u001B[49m\u001B[43m \u001B[49m\u001B[43mtemp_exponent\u001B[49m\u001B[38;5;241;43m=\u001B[39;49m\u001B[38;5;241;43m0.9995\u001B[39;49m\u001B[43m,\u001B[49m\u001B[43m \u001B[49m\u001B[43macceptance_factor\u001B[49m\u001B[38;5;241;43m=\u001B[39;49m\u001B[38;5;241;43m0.02\u001B[39;49m\u001B[43m)\u001B[49m\n\u001B[0;32m     18\u001B[0m iterations_left \u001B[38;5;241m-\u001B[39m\u001B[38;5;241m=\u001B[39m ONE_TIME_ITERATIONS\n\u001B[0;32m     19\u001B[0m results \u001B[38;5;241m+\u001B[39m\u001B[38;5;241m=\u001B[39m new_results\n",
      "Cell \u001B[1;32mIn[27], line 13\u001B[0m, in \u001B[0;36msimulation\u001B[1;34m(sudoku, guesses, max_iterations, temp_exponent, acceptance_factor)\u001B[0m\n\u001B[0;32m      9\u001B[0m sudoku[y1][x1], sudoku[y2][x2] \u001B[38;5;241m=\u001B[39m sudoku[y2][x2], sudoku[y1][x1]\n\u001B[0;32m     11\u001B[0m temperature \u001B[38;5;241m*\u001B[39m\u001B[38;5;241m=\u001B[39m temp_exponent\n\u001B[1;32m---> 13\u001B[0m new_energy \u001B[38;5;241m=\u001B[39m \u001B[43mcalculate_score\u001B[49m\u001B[43m(\u001B[49m\u001B[43msudoku\u001B[49m\u001B[43m)\u001B[49m\n\u001B[0;32m     14\u001B[0m \u001B[38;5;28;01mif\u001B[39;00m (new_energy \u001B[38;5;241m-\u001B[39m current_energy) \u001B[38;5;241m*\u001B[39m random\u001B[38;5;241m.\u001B[39mrandom() \u001B[38;5;241m<\u001B[39m acceptance_factor \u001B[38;5;241m*\u001B[39m temperature:\n\u001B[0;32m     15\u001B[0m     current_energy \u001B[38;5;241m=\u001B[39m new_energy\n",
      "Cell \u001B[1;32mIn[25], line 18\u001B[0m, in \u001B[0;36mcalculate_score\u001B[1;34m(sudoku)\u001B[0m\n\u001B[0;32m     16\u001B[0m         \u001B[38;5;28;01mif\u001B[39;00m used[index]:\n\u001B[0;32m     17\u001B[0m             score \u001B[38;5;241m+\u001B[39m\u001B[38;5;241m=\u001B[39m \u001B[38;5;241m1\u001B[39m\n\u001B[1;32m---> 18\u001B[0m         \u001B[43mused\u001B[49m\u001B[43m[\u001B[49m\u001B[43mindex\u001B[49m\u001B[43m]\u001B[49m \u001B[38;5;241m=\u001B[39m \u001B[38;5;28;01mTrue\u001B[39;00m\n\u001B[0;32m     19\u001B[0m \u001B[38;5;28;01mreturn\u001B[39;00m score\n",
      "\u001B[1;31mKeyboardInterrupt\u001B[0m: "
     ]
    }
   ],
   "source": [
    "iterations, time_measurements = generate_report()"
   ],
   "metadata": {
    "collapsed": false
   }
  },
  {
   "cell_type": "code",
   "execution_count": null,
   "outputs": [],
   "source": [
    "plt.plot([i+1 for i in range(len(iterations))], iterations)\n",
    "\n",
    "plt.title(\"Iterations\")\n",
    "plt.xlabel(\"Sudoku index\")\n",
    "plt.ylabel(\"Number of iterations\")"
   ],
   "metadata": {
    "collapsed": false
   }
  },
  {
   "cell_type": "code",
   "execution_count": null,
   "outputs": [],
   "source": [
    "plt.plot([i+1 for i in range(len(time_measurements))], time_measurements)\n",
    "\n",
    "plt.title(\"Time measurement\")\n",
    "plt.xlabel(\"Sudoku index\")\n",
    "plt.ylabel(\"Time measured [s]\")"
   ],
   "metadata": {
    "collapsed": false
   }
  }
 ],
 "metadata": {
  "kernelspec": {
   "display_name": "Python 3",
   "language": "python",
   "name": "python3"
  },
  "language_info": {
   "codemirror_mode": {
    "name": "ipython",
    "version": 2
   },
   "file_extension": ".py",
   "mimetype": "text/x-python",
   "name": "python",
   "nbconvert_exporter": "python",
   "pygments_lexer": "ipython2",
   "version": "2.7.6"
  }
 },
 "nbformat": 4,
 "nbformat_minor": 0
}
